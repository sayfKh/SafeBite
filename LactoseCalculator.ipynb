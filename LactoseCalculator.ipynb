{
 "cells": [
  {
   "cell_type": "code",
   "execution_count": 13,
   "id": "4f429ce8",
   "metadata": {},
   "outputs": [
    {
     "name": "stdout",
     "output_type": "stream",
     "text": [
      "[('Spaghetti Bolognese', 0.0), ('Chicken Caesar Salad', 0.0), ('Margherita Pizza', 2.0), ('Beef Stir-Fry', 0.0), ('Chocolate Cake', 0.375), ('Lactose Rich Dish', 110.25)]\n"
     ]
    }
   ],
   "source": [
    "import csv\n",
    "\n",
    "# Function to extract dish ingredients from the menu CSV file\n",
    "def extract_dish_ingredients(file_path, dish_name):\n",
    "    dish_ingredients = []\n",
    "\n",
    "    with open(file_path, newline='') as csvfile:\n",
    "        reader = csv.DictReader(csvfile)\n",
    "        for row in reader:\n",
    "            if row['Dish'] == dish_name:\n",
    "                for key, value in row.items():\n",
    "                    if key != 'Dish':\n",
    "                        dish_ingredients.append([key, int(value)])\n",
    "\n",
    "    return dish_ingredients\n",
    "\n",
    "# Function to calculate lactose content for each dish in the menu CSV file\n",
    "def calculate_lactose_content_for_menu(file_path):\n",
    "    lactose_content_list = []\n",
    "\n",
    "    with open(file_path, newline='') as menufile:\n",
    "        reader = csv.DictReader(menufile)\n",
    "        for row in reader:\n",
    "            dish_name = row['Dish']\n",
    "            dish_ingredients = extract_dish_ingredients(file_path, dish_name)\n",
    "            \n",
    "            total_lactose = 0\n",
    "            for ingredient, quantity in dish_ingredients:\n",
    "                # Assuming lactose_content is a dictionary with lactose per 100g for each ingredient\n",
    "                if ingredient in lactose_content:\n",
    "                    lactose_per_100g = lactose_content[ingredient]\n",
    "                    lactose_in_this_amount = (quantity / 100) * lactose_per_100g\n",
    "                    total_lactose += lactose_in_this_amount\n",
    "            \n",
    "            lactose_content_list.append((dish_name, total_lactose))\n",
    "\n",
    "    return lactose_content_list\n",
    "\n",
    "# Example usage:\n",
    "file_path_menu = 'C:/Users/nassi/Documents/menu.csv'  # Replace with your menu file path\n",
    "file_path_lactose = 'C:/Users/nassi/Documents/lactose_content.csv'  # Replace with your lactose content file path\n",
    "\n",
    "# Load lactose content into a dictionary\n",
    "lactose_content = {}\n",
    "with open(file_path_lactose, newline='') as lactosefile:\n",
    "    reader = csv.DictReader(lactosefile)\n",
    "    for row in reader:\n",
    "        ingredient = row['ingredient']\n",
    "        lactose_per_100g = float(row['lactose_content'])\n",
    "        lactose_content[ingredient] = lactose_per_100g\n",
    "\n",
    "# Calculate lactose content for each dish in the menu\n",
    "result_list = calculate_lactose_content_for_menu(file_path_menu)\n",
    "print(result_list)\n"
   ]
  },
  {
   "cell_type": "code",
   "execution_count": null,
   "id": "c9ae6bfc",
   "metadata": {},
   "outputs": [],
   "source": []
  }
 ],
 "metadata": {
  "kernelspec": {
   "display_name": "Python 3 (ipykernel)",
   "language": "python",
   "name": "python3"
  },
  "language_info": {
   "codemirror_mode": {
    "name": "ipython",
    "version": 3
   },
   "file_extension": ".py",
   "mimetype": "text/x-python",
   "name": "python",
   "nbconvert_exporter": "python",
   "pygments_lexer": "ipython3",
   "version": "3.11.5"
  }
 },
 "nbformat": 4,
 "nbformat_minor": 5
}
